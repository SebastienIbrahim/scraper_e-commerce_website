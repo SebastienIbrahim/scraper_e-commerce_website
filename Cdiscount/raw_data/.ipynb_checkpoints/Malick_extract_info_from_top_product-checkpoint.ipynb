{
 "cells": [
  {
   "cell_type": "code",
   "execution_count": 1,
   "id": "f6bde352-3e75-427d-ab13-1c07dd91fb08",
   "metadata": {},
   "outputs": [
    {
     "data": {
      "text/html": [
       "\n",
       "                <script type=\"application/javascript\" id=\"jupyter_black\">\n",
       "                (function() {\n",
       "                    if (window.IPython === undefined) {\n",
       "                        return\n",
       "                    }\n",
       "                    var msg = \"WARNING: it looks like you might have loaded \" +\n",
       "                        \"jupyter_black in a non-lab notebook with \" +\n",
       "                        \"`is_lab=True`. Please double check, and if \" +\n",
       "                        \"loading with `%load_ext` please review the README!\"\n",
       "                    console.log(msg)\n",
       "                    alert(msg)\n",
       "                })()\n",
       "                </script>\n",
       "                "
      ],
      "text/plain": [
       "<IPython.core.display.HTML object>"
      ]
     },
     "metadata": {},
     "output_type": "display_data"
    }
   ],
   "source": [
    "import pandas as pd\n",
    "import numpy as np\n",
    "import json\n",
    "import ast\n",
    "import black\n",
    "\n",
    "%load_ext jupyter_black"
   ]
  },
  {
   "cell_type": "code",
   "execution_count": 2,
   "id": "3b142efb-f3e3-4940-b2fb-d554c8aef8c7",
   "metadata": {},
   "outputs": [],
   "source": [
    "raw_data = pd.read_csv(\"raw_data_2023-06-16_18:39:47.csv\", index_col=0)"
   ]
  },
  {
   "cell_type": "code",
   "execution_count": 3,
   "id": "b3f3b834-c556-4201-8504-6544c86c42f5",
   "metadata": {},
   "outputs": [],
   "source": [
    "product_without_concurrent = []\n",
    "all_seller_product = raw_data[\"raw_data\"].values"
   ]
  },
  {
   "cell_type": "code",
   "execution_count": 4,
   "id": "3ad57392-04bd-4fe7-b9ea-60546b808930",
   "metadata": {
    "tags": []
   },
   "outputs": [],
   "source": [
    "info_all_seller_product = []\n",
    "product_check = set()\n",
    "for all_product_seller in all_seller_product:\n",
    "    dict_all_product_seller = ast.literal_eval(all_product_seller)\n",
    "    for product in dict_all_product_seller.values():\n",
    "        info_product = {}\n",
    "        ean = product[\"ean\"]\n",
    "        price = product[\"seller_price\"]\n",
    "        name_seller = product[\"seller_name_fp\"]\n",
    "        if ean in product_check:\n",
    "            continue\n",
    "        try:\n",
    "            others_offer = product[\"offers\"]\n",
    "            pass\n",
    "        except Exception:\n",
    "            product_without_concurrent.append(dict_all_product_seller)\n",
    "            continue\n",
    "        if name_seller == \"\":\n",
    "            continue\n",
    "        else:\n",
    "            all_price_other_seller = {}\n",
    "            for info_other_product in others_offer:\n",
    "                if (\n",
    "                    info_other_product[\"seller_name\"].lower().replace(\" \", \"\")\n",
    "                    == \"cdiscount\"\n",
    "                ):\n",
    "                    price_site_seller = float(\n",
    "                        info_other_product[\"seller_price\"]\n",
    "                        .replace(\"\\n\", \".\")\n",
    "                        .replace(\"€\", \"\")\n",
    "                    )\n",
    "                    info_product[\"price_site_seller\"] = price_site_seller\n",
    "                else:\n",
    "                    all_price_other_seller[info_other_product[\"seller_name\"]] = float(\n",
    "                        info_other_product[\"seller_price\"]\n",
    "                        .replace(\"\\n\", \".\")\n",
    "                        .replace(\"€\", \"\")\n",
    "                    )\n",
    "            info_product[\"ean\"] = ean\n",
    "            info_product[\"list_other_price\"] = all_price_other_seller\n",
    "            product_check.add(ean)\n",
    "        info_all_seller_product.append(info_product)"
   ]
  },
  {
   "cell_type": "code",
   "execution_count": 11,
   "id": "beeb70c0-bb21-42c3-9ab6-bd149b7afd39",
   "metadata": {},
   "outputs": [],
   "source": [
    "absolute_threshold = 40\n",
    "relative_threshold = 0.3\n",
    "product_to_keep = dict()\n",
    "for dict_product_info in info_all_seller_product:\n",
    "    try:\n",
    "        list_sorted_price_other_seller = [\n",
    "            v\n",
    "            for k, v in sorted(\n",
    "                dict_product_info[\"list_other_price\"].items(), key=lambda x: x[1]\n",
    "            )\n",
    "        ]\n",
    "        diff_price = (\n",
    "            list_sorted_price_other_seller[0] - dict_product_info[\"price_site_seller\"]\n",
    "        )\n",
    "        relative_diff = (\n",
    "            list_sorted_price_other_seller[0] - dict_product_info[\"price_site_seller\"]\n",
    "        ) / dict_product_info[\"price_site_seller\"]\n",
    "        if relative_diff > relative_threshold:\n",
    "            if diff_price > absolute_threshold:\n",
    "                product_to_keep[str(dict_product_info[\"ean\"])] = (\n",
    "                    dict_product_info[\"price_site_seller\"] * 1.2\n",
    "                )\n",
    "        continue\n",
    "    except Exception:\n",
    "        continue"
   ]
  },
  {
   "cell_type": "code",
   "execution_count": 12,
   "id": "b688b1e2-08fe-4f64-a44e-611bc4f8ed48",
   "metadata": {},
   "outputs": [
    {
     "data": {
      "text/plain": [
       "{'0196119451311': 599.9879999999999,\n",
       " '4711121242069': 1199.988,\n",
       " '4710886672340': 239.988,\n",
       " '0196786486111': 899.9879999999999,\n",
       " '0196786486081': 359.988,\n",
       " '0753759232726': 455.988,\n",
       " '0196786287145': 599.9879999999999,\n",
       " '8806092883628': 95.98799999999999,\n",
       " '4711377002103': 959.9879999999999}"
      ]
     },
     "execution_count": 12,
     "metadata": {},
     "output_type": "execute_result"
    }
   ],
   "source": [
    "product_to_keep"
   ]
  },
  {
   "cell_type": "code",
   "execution_count": null,
   "id": "cdbee32e-4bad-4603-ae8f-40ec743ff1e9",
   "metadata": {},
   "outputs": [],
   "source": []
  }
 ],
 "metadata": {
  "kernelspec": {
   "display_name": "Python 3 (ipykernel)",
   "language": "python",
   "name": "python3"
  },
  "language_info": {
   "codemirror_mode": {
    "name": "ipython",
    "version": 3
   },
   "file_extension": ".py",
   "mimetype": "text/x-python",
   "name": "python",
   "nbconvert_exporter": "python",
   "pygments_lexer": "ipython3",
   "version": "3.10.9"
  }
 },
 "nbformat": 4,
 "nbformat_minor": 5
}
