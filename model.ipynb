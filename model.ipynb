{
 "cells": [
  {
   "cell_type": "code",
   "execution_count": 2,
   "id": "e7d30993",
   "metadata": {
    "tags": []
   },
   "outputs": [],
   "source": [
    "import re\n",
    "import random\n",
    "import time\n",
    "import black\n",
    "import os\n",
    "import yaml\n",
    "import pathlib\n",
    "from bs4 import BeautifulSoup\n",
    "from selenium import webdriver\n",
    "from selenium.webdriver.chrome.service import Service \n",
    "from selenium.webdriver.chrome.options import Options\n",
    "from selenium.webdriver.chrome.service import Service as ChromeService\n",
    "from selenium import webdriver\n",
    "from webdriver_manager.firefox import GeckoDriverManager\n",
    "from webdriver_manager.chrome import ChromeDriverManager\n",
    "\n",
    "from utils.poppup import popupmsg\n",
    "from utils.configs import get_config\n",
    "import selenium"
   ]
  },
  {
   "cell_type": "code",
   "execution_count": 3,
   "id": "a865f938",
   "metadata": {
    "tags": []
   },
   "outputs": [],
   "source": [
    "class Driver:\n",
    "    def __init__(self, port=2023, chromedriver_path=None):\n",
    "        self.port = port\n",
    "        self.chromedriver_path = chromedriver_path\n",
    "        self.driver = webdriver.Firefox(executable_path=GeckoDriverManager().install())"
   ]
  },
  {
   "cell_type": "code",
   "execution_count": 4,
   "id": "c4b93ac9",
   "metadata": {
    "tags": []
   },
   "outputs": [],
   "source": [
    "class Website:\n",
    "\n",
    "    def __init__(self, name, url, target_pattern, absolute_url, title_tag, ean_tag, price_tag, seller_tag, captcha_tag, seller_listing_tag):\n",
    "        self.name = name\n",
    "        self.url = url\n",
    "        self.target_pattern = target_pattern\n",
    "        self.absolute_url = absolute_url\n",
    "        self.title_tag = title_tag\n",
    "        self.ean_tag = ean_tag\n",
    "        self.price_tag = price_tag\n",
    "        self.seller_tag = seller_tag\n",
    "        self.captcha_tag = captcha_tag\n",
    "        self.seller_listing_tag = seller_listing_tag"
   ]
  },
  {
   "cell_type": "code",
   "execution_count": 5,
   "id": "3ce5141f",
   "metadata": {
    "tags": []
   },
   "outputs": [],
   "source": [
    "class Content:\n",
    "\n",
    "    def __init__(self, timestemp, url, title, ean, infos: dict):\n",
    "        self.timestemp = timestemp\n",
    "        self.url = url\n",
    "        self.title = title\n",
    "        self.ean = ean\n",
    "        self.infos = infos"
   ]
  },
  {
   "cell_type": "markdown",
   "id": "d2c3fd4a",
   "metadata": {},
   "source": [
    "====================="
   ]
  },
  {
   "cell_type": "code",
   "execution_count": 7,
   "id": "7a188ecf",
   "metadata": {},
   "outputs": [
    {
     "name": "stdout",
     "output_type": "stream",
     "text": [
      "cdiscount\n"
     ]
    }
   ],
   "source": [
    "def get_info_site(site=\"cdiscount\"):\n",
    "    site = site\n",
    "    for key,val in get_config()[\"sites\"].items():\n",
    "        print(key)\n",
    "        if key == site:\n",
    "            return val\n",
    "\n",
    "info_site = get_info_site()"
   ]
  },
  {
   "cell_type": "code",
   "execution_count": 8,
   "id": "e7f1a521",
   "metadata": {
    "tags": []
   },
   "outputs": [],
   "source": [
    "cdiscound = Website(name = info_site.get(\"name\"), \n",
    "                    url = info_site.get(\"url\"), \n",
    "                    target_pattern = info_site.get(\"target_pattern\"), \n",
    "                    absolute_url = info_site.get(\"absolute_url\"), \n",
    "                    title_tag = info_site.get(\"title_tag\"), \n",
    "                    ean_tag = info_site.get(\"ean_tag\"), \n",
    "                    price_tag = info_site.get(\"price_tag\"), \n",
    "                    seller_tag = info_site.get(\"seller_tag\"), \n",
    "                    captcha_tag = info_site.get(\"captcha_tag\"), \n",
    "                    seller_listing_tag = info_site.get(\"seller_listing_tag\") )"
   ]
  },
  {
   "cell_type": "code",
   "execution_count": 11,
   "id": "130fae00-673a-42f7-88ce-37b1f396c453",
   "metadata": {},
   "outputs": [],
   "source": [
    "#os.listdir(os.getcwd()+\"/Téléchargements/chromedriver_linux64/LICENSE.chromedriver\")"
   ]
  },
  {
   "cell_type": "code",
   "execution_count": 12,
   "id": "e58aef50-9f21-4ce2-9a16-96923f96278e",
   "metadata": {},
   "outputs": [],
   "source": [
    "chromedriver_path = os.getcwd()+\"/Téléchargements/chromedriver_linux64\"+\"/chromedriver.exe\""
   ]
  },
  {
   "cell_type": "code",
   "execution_count": 44,
   "id": "e019931f",
   "metadata": {
    "tags": []
   },
   "outputs": [],
   "source": [
    "class Crawler:\n",
    "    def __init__(self, website_info):\n",
    "        self.website_info = website_info\n",
    "        #self.site = site\n",
    "        # TODO: save visited pages to cloud storage\n",
    "        self.visited = set()\n",
    "\n",
    "    def get_page(self, url):\n",
    "        driver = Driver()\n",
    "        try:\n",
    "            driver.driver.get(url)\n",
    "        except Exception as e:\n",
    "            msg = f\"This exception: {e} was raise when we try to get the page: {url}\"\n",
    "            popupmsg(msg)\n",
    "            return None\n",
    "        return BeautifulSoup(driver.driver.page_source, 'html.parser')\n",
    "\n",
    "    def wait(delay_min, delay_max):\n",
    "        random_delay = random.randint(delay_min, delay_max)\n",
    "        print(f\"We wait for {random_delay} 's before continue\")\n",
    "        time.sleep(random_delay)\n",
    "\n",
    "    def safe_get(self, pageObj, selector):\n",
    "        selectedElems = pageObj.select(selector)\n",
    "        if selectedElems is not None and len(selectedElems) > 0:\n",
    "            return '\\n'.join([elem.get_text() for elem in selectedElems])\n",
    "        return ''\n",
    "\n",
    "    def check_captcha(self, pageObj):\n",
    "        is_captchat_found = False \n",
    "        try:\n",
    "            selected_elems = pageObj.select(self.website_info.captcha_tag)\n",
    "            is_captchat_found = selected_elems is not None and len(selected_elems) > 0\n",
    "        except:\n",
    "            is_captchat_found = False\n",
    "        return is_captchat_found\n",
    "\n",
    "    def parse(self, url):\n",
    "        bs = self.get_page(url)\n",
    "        if bs is not None:\n",
    "            title = self.safe_get(bs, self.website_info.title_tag)\n",
    "            body = self.safe_get(bs, self.website_info.body_tag)\n",
    "            if title != '' and body != '':\n",
    "                content = Content(url, title, body)\n",
    "                content.print()\n",
    "\n",
    "    def crawl(self,url):\n",
    "        \"\"\"\n",
    "        Get pages from website home page\n",
    "        \"\"\"\n",
    "        bs = self.get_page(url)\n",
    "        print(re.compile(self.website_info.target_pattern))\n",
    "        targetPages = bs.findAll('a', href=re.compile(self.website_info.target_pattern))\n",
    "        for targetPage in targetPages:\n",
    "            targetPage = targetPage.attrs['href']\n",
    "            if targetPage not in self.visited:\n",
    "                self.visited.append(targetPage)\n",
    "                if not self.website_info.absoluteUrl:\n",
    "                    targetPage = '{}{}'.format(self.website_info.url, targetPage)\n",
    "                #self.parse(targetPage)"
   ]
  },
  {
   "cell_type": "raw",
   "id": "2da493d3-91e3-4e1c-bdbf-67da41371f62",
   "metadata": {},
   "source": [
    "os.getcwd()\n",
    "print(os.path.abspath(os.curdir))\n",
    "owd = os.getcwd()\n",
    "os.chdir(\"..\")\n",
    "print(os.path.abspath(os.curdir))\n",
    "os.chdir(owd)\n",
    "os.getcwd()"
   ]
  },
  {
   "cell_type": "code",
   "execution_count": 45,
   "id": "47194a04-d9d3-40ed-b2c2-bf972ba2944f",
   "metadata": {},
   "outputs": [
    {
     "name": "stdout",
     "output_type": "stream",
     "text": [
      "re.compile('(\\\\/f-\\\\d+.*\\\\.html)|(\\\\/mpv.*-\\\\d+.*\\\\.html)')\n"
     ]
    }
   ],
   "source": [
    "crawler = Crawler(cdiscound)\n",
    "crawler.crawl(\"https://www.cdiscount.com/informatique/ordinateurs-pc-portables/apple-14-macbook-pro-2023-puce-apple-m2-pro/f-107096402-mphe3fna.html#mpos=0|cd\")"
   ]
  },
  {
   "cell_type": "code",
   "execution_count": null,
   "id": "9d3e20aa-c23e-4f15-ad27-aae86c6eb25a",
   "metadata": {},
   "outputs": [],
   "source": []
  },
  {
   "cell_type": "code",
   "execution_count": null,
   "id": "ec6c65dd-42d9-48a7-8ba0-557cf1a70033",
   "metadata": {},
   "outputs": [],
   "source": []
  }
 ],
 "metadata": {
  "jupytext": {
   "cell_metadata_filter": "-all",
   "main_language": "python",
   "notebook_metadata_filter": "-all"
  },
  "kernelspec": {
   "display_name": "project-scrapper",
   "language": "python",
   "name": "project-scrapper"
  },
  "language_info": {
   "codemirror_mode": {
    "name": "ipython",
    "version": 3
   },
   "file_extension": ".py",
   "mimetype": "text/x-python",
   "name": "python",
   "nbconvert_exporter": "python",
   "pygments_lexer": "ipython3",
   "version": "3.10.9"
  }
 },
 "nbformat": 4,
 "nbformat_minor": 5
}
